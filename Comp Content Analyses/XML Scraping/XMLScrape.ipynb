{
 "cells": [
  {
   "cell_type": "code",
   "execution_count": 3,
   "metadata": {},
   "outputs": [
    {
     "name": "stdout",
     "output_type": "stream",
     "text": [
      "Extraction complete. Results saved.\n"
     ]
    }
   ],
   "source": [
    "#without empty parts\n",
    "\n",
    "import xml.etree.ElementTree as ET\n",
    "import csv\n",
    "import string\n",
    "\n",
    "# Parse the XML script\n",
    "tree = ET.parse('FargoScript.xml')\n",
    "root = tree.getroot()\n",
    "\n",
    "# Open the CSV file for writing\n",
    "with open('Finaloutput.csv', mode='w', newline='') as file:\n",
    "    writer = csv.writer(file)\n",
    "    writer.writerow(['Scene', 'Stage Direction', 'Speaker', 'Dialogue'])\n",
    "\n",
    "    # Iterate over all scenes in the script\n",
    "    for scene in root.findall('scene'):\n",
    "        scene_number = scene.get('count')\n",
    "        stage_direction_element = scene.find('stageDirection')\n",
    "\n",
    "        # Check if stage direction exists\n",
    "        if stage_direction_element is not None:\n",
    "            stage_direction = stage_direction_element.text.strip()\n",
    "        else:\n",
    "            stage_direction = \"\"\n",
    "\n",
    "        # Iterate over the speeches/dialogues in the scene\n",
    "        speeches = scene.findall('.//speech')\n",
    "        if speeches:\n",
    "            for speech in speeches:\n",
    "                speaker = speech.get('speaker')\n",
    "\n",
    "                # Iterate over the sentences/dialogues within the speech\n",
    "                for sentence in speech.findall('.//sentence'):\n",
    "                    dialogue = ' '.join(word.text.strip() if word.text is not None else '' for word in sentence.iter('word'))\n",
    "\n",
    "                    # Remove leading spaces before punctuation marks\n",
    "                    for punctuation in string.punctuation:\n",
    "                        dialogue = dialogue.replace(' ' + punctuation, punctuation)\n",
    "\n",
    "                    writer.writerow([scene_number, stage_direction, speaker, dialogue])\n",
    "        else:\n",
    "            # Write an empty row for scenes without speeches/dialogues\n",
    "            writer.writerow([scene_number, stage_direction, \"\", \"\"])\n",
    "            \n",
    "            \n",
    "# File is automatically closed after exiting the 'with' block\n",
    "\n",
    "print(\"Extraction complete. Results saved.\")\n"
   ]
  },
  {
   "cell_type": "code",
   "execution_count": 13,
   "metadata": {},
   "outputs": [
    {
     "name": "stdout",
     "output_type": "stream",
     "text": [
      "Extraction complete. Results saved.\n"
     ]
    }
   ],
   "source": [
    "#I used this code to have empty space before \"-\" because otherwise excel output was reading some sentences as \"Error\" # \n",
    "\n",
    "import xml.etree.ElementTree as ET\n",
    "import csv\n",
    "import string\n",
    "\n",
    "# Parse the XML script\n",
    "tree = ET.parse('FargoScript.xml')\n",
    "root = tree.getroot()\n",
    "\n",
    "# Open the CSV file for writing\n",
    "with open('Highhopes.csv', mode='w', newline='') as file:\n",
    "    writer = csv.writer(file)\n",
    "    writer.writerow(['Scene', 'Stage Direction', 'Speaker', 'Dialogue'])\n",
    "\n",
    "    # Iterate over all scenes in the script\n",
    "    for scene in root.findall('scene'):\n",
    "        scene_number = scene.get('count')\n",
    "        stage_direction_element = scene.find('stageDirection')\n",
    "\n",
    "        # Check if stage direction exists\n",
    "        if stage_direction_element is not None:\n",
    "            stage_direction = stage_direction_element.text.strip()\n",
    "        else:\n",
    "            stage_direction = \"\"\n",
    "\n",
    "        # Iterate over the speeches/dialogues in the scene\n",
    "        speeches = scene.findall('.//speech')\n",
    "        if speeches:\n",
    "            for speech in speeches:\n",
    "                speaker = speech.get('speaker')\n",
    "\n",
    "                # Iterate over the sentences/dialogues within the speech\n",
    "                for sentence in speech.findall('.//sentence'):\n",
    "                    words = [word.text.strip() if word.text is not None else '' for word in sentence.iter('word')]\n",
    "\n",
    "                    # Join the words to form the dialogue\n",
    "                    dialogue = ' '.join(words)\n",
    "\n",
    "                    # Add a single space before the dash (\"-\") in dialogues\n",
    "                    dialogue = dialogue.replace('-', ' -')\n",
    "\n",
    "                    # Remove spaces before other punctuation marks\n",
    "                    for punctuation in string.punctuation:\n",
    "                        if punctuation != '-':\n",
    "                            dialogue = dialogue.replace(' ' + punctuation, punctuation)\n",
    "\n",
    "                    writer.writerow([scene_number, stage_direction, speaker, dialogue])\n",
    "        else:\n",
    "            # Write an empty row for scenes without speeches/dialogues\n",
    "            writer.writerow([scene_number, stage_direction, \"\", \"\"])\n",
    "\n",
    "print(\"Extraction complete. Results saved.\")\n"
   ]
  },
  {
   "cell_type": "code",
   "execution_count": null,
   "metadata": {},
   "outputs": [],
   "source": []
  }
 ],
 "metadata": {
  "kernelspec": {
   "display_name": "Python 3",
   "language": "python",
   "name": "python3"
  },
  "language_info": {
   "codemirror_mode": {
    "name": "ipython",
    "version": 3
   },
   "file_extension": ".py",
   "mimetype": "text/x-python",
   "name": "python",
   "nbconvert_exporter": "python",
   "pygments_lexer": "ipython3",
   "version": "3.7.4"
  }
 },
 "nbformat": 4,
 "nbformat_minor": 2
}
